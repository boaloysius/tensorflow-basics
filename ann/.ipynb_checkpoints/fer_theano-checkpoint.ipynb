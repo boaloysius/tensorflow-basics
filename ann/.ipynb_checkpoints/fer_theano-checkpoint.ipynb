{
 "cells": [
  {
   "cell_type": "code",
   "execution_count": 4,
   "metadata": {
    "collapsed": true
   },
   "outputs": [],
   "source": [
    "import numpy as np\n",
    "import theano\n",
    "import theano.tensor as T\n",
    "import matplotlib.pyplot as plt"
   ]
  },
  {
   "cell_type": "code",
   "execution_count": 5,
   "metadata": {
    "collapsed": false
   },
   "outputs": [],
   "source": [
    "from fer_util import getData, getBinaryData, y2indicator, error_rate, relu, init_weight_and_bias\n",
    "from sklearn.utils import shuffle"
   ]
  },
  {
   "cell_type": "code",
   "execution_count": 6,
   "metadata": {
    "collapsed": true
   },
   "outputs": [],
   "source": [
    "# Creating hidden layer object so that we can create as many hidden layers as needed."
   ]
  },
  {
   "cell_type": "code",
   "execution_count": 7,
   "metadata": {
    "collapsed": true
   },
   "outputs": [],
   "source": [
    "class HiddenLayer(object):\n",
    "    # M1: input size\n",
    "    # M2: output size\n",
    "    # an_id: unique id to identify\n",
    "    def __init__(self, M1, M2, an_id):\n",
    "        self.id = an_id\n",
    "        self.M1 = M1\n",
    "        self.M2 = M2\n",
    "        W,b = init_weight_and_bias(M1, M2)\n",
    "        self.W = theano.shared(W, 'W_%s' % self.id)\n",
    "        self.b = theano.shared(b, 'b_%s' % self.id)\n",
    "        self.params = [self.W, self.b]\n",
    "        \n",
    "    def forward(self, X):\n",
    "        return relu(X.dot(self.W) + self.b)"
   ]
  },
  {
   "cell_type": "code",
   "execution_count": null,
   "metadata": {
    "collapsed": true
   },
   "outputs": [],
   "source": [
    "class ANN(object):\n",
    "    # hidden_layer_sizes: number of neurons in each hidden layer\n",
    "    # eg: hidden_layer_sizes = [ #layer_1_neurons, #layer_2_neurons, #layer_3_neurons, ...]\n",
    "    def __init__(self, hidden_layer_sizes):\n",
    "        self.hidden_layer_sizes = hidden_layer_sizes\n",
    "        \n",
    "    # learning_rate, mu: momentum\n",
    "    # decay for RMSProp, epochs, batch_sz: batch size, show_fig: show figure.\n",
    "    def fit(self, X, Y, learning_rate=10e-7, mu=0.99, decay=0.999, epochs=400, batch_sz = 100, show_fig=False):\n",
    "        # First step: Make a validation set\n",
    "        X, Y = shuffle(X,Y)\n",
    "        # To run the code in GPU we need it everything to be float32\n",
    "        X = X.astype(np.float32)\n",
    "        Y = Y.astype(np.int32)\n",
    "        # Creting the testing and training set\n",
    "        Xvalid, Yvalid = X[-1000:], Y[-1000:]\n",
    "        X,Y = X[:-1000], Y[:-1000]\n",
    "        \n",
    "        # initialize the hidden layers\n",
    "        N, D = X.shape # N: the number of training data, D: features of trainig data.\n",
    "        K = len(set(Y)) # K: the number of distinct classes of NN.\n",
    "        self.hidden_layers = []\n",
    "        M1 = D\n",
    "        count = 0 # unique id of the hidden layer.\n",
    "        \n",
    "        for M2 in self.hidden_layer_sizes:\n",
    "            # Creating the hidden later\n",
    "            h = HiddenLater(M1, M2, count)\n",
    "            # Append it to the hidden layers of the NN\n",
    "            self.hidden_layers.append(h)\n",
    "            M1=M2\n",
    "            count +=1\n",
    "            \n",
    "        # Initializing the last logistic regression layer\n",
    "        W, b = init_weight_and_bias(M1, K)\n",
    "        self.W = theano.shared(W, 'W_logreg')\n",
    "        self.b = theano.shared(b, 'b_logreg')\n",
    "        \n",
    "        # Collecting the parameters of all hidden layers\n",
    "        self.params = [self.W, self.b]\n",
    "        for h in self.hidden_layers:\n",
    "            self.params += h.params\n",
    "            \n",
    "        # for momentum\n",
    "        dparams = [theano.shared(np.zeros(p.get_value().shape)) for p in self.params]\n",
    "        \n",
    "        # for rmsprop\n",
    "        cache = [theano.shared(np.zeros(p.get_value().shape)) for p in self.params]\n",
    "        \n",
    "        # theano vars\n",
    "        thX = T.matric('X')\n",
    "        thY = T.ivecotr('Y')\n",
    "        pY = self.forward(thX)\n",
    "        \n",
    "        # Regularization Cost\n",
    "        rcost = reg*T.sum([(p*P).sum() for p in self.params])\n",
    "            "
   ]
  },
  {
   "cell_type": "code",
   "execution_count": null,
   "metadata": {
    "collapsed": true
   },
   "outputs": [],
   "source": []
  },
  {
   "cell_type": "code",
   "execution_count": null,
   "metadata": {
    "collapsed": true
   },
   "outputs": [],
   "source": []
  },
  {
   "cell_type": "code",
   "execution_count": null,
   "metadata": {
    "collapsed": true
   },
   "outputs": [],
   "source": []
  },
  {
   "cell_type": "code",
   "execution_count": null,
   "metadata": {
    "collapsed": true
   },
   "outputs": [],
   "source": []
  },
  {
   "cell_type": "code",
   "execution_count": null,
   "metadata": {
    "collapsed": true
   },
   "outputs": [],
   "source": []
  },
  {
   "cell_type": "code",
   "execution_count": null,
   "metadata": {
    "collapsed": true
   },
   "outputs": [],
   "source": []
  },
  {
   "cell_type": "code",
   "execution_count": null,
   "metadata": {
    "collapsed": true
   },
   "outputs": [],
   "source": []
  },
  {
   "cell_type": "code",
   "execution_count": null,
   "metadata": {
    "collapsed": true
   },
   "outputs": [],
   "source": []
  },
  {
   "cell_type": "code",
   "execution_count": null,
   "metadata": {
    "collapsed": true
   },
   "outputs": [],
   "source": []
  },
  {
   "cell_type": "code",
   "execution_count": null,
   "metadata": {
    "collapsed": true
   },
   "outputs": [],
   "source": []
  },
  {
   "cell_type": "code",
   "execution_count": 8,
   "metadata": {
    "collapsed": true
   },
   "outputs": [],
   "source": [
    "def main():\n",
    "    X,Y = getData()\n",
    "    model = ANN([2000,1000])\n",
    "    model.fit(X,Y, show_fig=True)\n",
    "    print model.score(X,Y)"
   ]
  },
  {
   "cell_type": "code",
   "execution_count": null,
   "metadata": {
    "collapsed": true
   },
   "outputs": [],
   "source": []
  },
  {
   "cell_type": "code",
   "execution_count": null,
   "metadata": {
    "collapsed": true
   },
   "outputs": [],
   "source": []
  },
  {
   "cell_type": "code",
   "execution_count": null,
   "metadata": {
    "collapsed": true
   },
   "outputs": [],
   "source": []
  },
  {
   "cell_type": "code",
   "execution_count": null,
   "metadata": {
    "collapsed": true
   },
   "outputs": [],
   "source": []
  },
  {
   "cell_type": "code",
   "execution_count": null,
   "metadata": {
    "collapsed": true
   },
   "outputs": [],
   "source": []
  },
  {
   "cell_type": "code",
   "execution_count": null,
   "metadata": {
    "collapsed": true
   },
   "outputs": [],
   "source": []
  },
  {
   "cell_type": "code",
   "execution_count": null,
   "metadata": {
    "collapsed": true
   },
   "outputs": [],
   "source": []
  },
  {
   "cell_type": "code",
   "execution_count": null,
   "metadata": {
    "collapsed": true
   },
   "outputs": [],
   "source": []
  },
  {
   "cell_type": "code",
   "execution_count": null,
   "metadata": {
    "collapsed": true
   },
   "outputs": [],
   "source": []
  },
  {
   "cell_type": "code",
   "execution_count": null,
   "metadata": {
    "collapsed": true
   },
   "outputs": [],
   "source": []
  },
  {
   "cell_type": "code",
   "execution_count": null,
   "metadata": {
    "collapsed": true
   },
   "outputs": [],
   "source": []
  }
 ],
 "metadata": {
  "anaconda-cloud": {},
  "kernelspec": {
   "display_name": "Python [default]",
   "language": "python",
   "name": "python2"
  },
  "language_info": {
   "codemirror_mode": {
    "name": "ipython",
    "version": 2
   },
   "file_extension": ".py",
   "mimetype": "text/x-python",
   "name": "python",
   "nbconvert_exporter": "python",
   "pygments_lexer": "ipython2",
   "version": "2.7.12"
  }
 },
 "nbformat": 4,
 "nbformat_minor": 1
}
