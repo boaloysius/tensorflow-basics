{
 "cells": [
  {
   "cell_type": "code",
   "execution_count": 41,
   "metadata": {
    "collapsed": true
   },
   "outputs": [],
   "source": [
    "import numpy as np\n",
    "import matplotlib.pyplot as plt"
   ]
  },
  {
   "cell_type": "code",
   "execution_count": 42,
   "metadata": {
    "collapsed": true
   },
   "outputs": [],
   "source": [
    "# Number of datapoints\n",
    "N = 50\n",
    "X = np.linspace(0,10,N)"
   ]
  },
  {
   "cell_type": "code",
   "execution_count": 43,
   "metadata": {
    "collapsed": false
   },
   "outputs": [],
   "source": [
    "Y = 0.5*X+np.random.rand(N)\n",
    "Y[1] += 30\n",
    "Y[2] +=30"
   ]
  },
  {
   "cell_type": "code",
   "execution_count": 44,
   "metadata": {
    "collapsed": false
   },
   "outputs": [
    {
     "data": {
      "image/png": "[encoded data removed]",
      "text/plain": [
       "<matplotlib.figure.Figure at 0x10701b8d0>"
      ]
     },
     "metadata": {},
     "output_type": "display_data"
    }
   ],
   "source": [
    "plt.scatter(X,Y)\n",
    "plt.show()"
   ]
  },
  {
   "cell_type": "code",
   "execution_count": 45,
   "metadata": {
    "collapsed": true
   },
   "outputs": [],
   "source": [
    "# Find the weights that best fit a line to this data"
   ]
  },
  {
   "cell_type": "code",
   "execution_count": 46,
   "metadata": {
    "collapsed": false
   },
   "outputs": [
    {
     "data": {
      "text/plain": [
       "array([  0.        ,   0.20408163,   0.40816327,   0.6122449 ,\n",
       "         0.81632653,   1.02040816,   1.2244898 ,   1.42857143,\n",
       "         1.63265306,   1.83673469,   2.04081633,   2.24489796,\n",
       "         2.44897959,   2.65306122,   2.85714286,   3.06122449,\n",
       "         3.26530612,   3.46938776,   3.67346939,   3.87755102,\n",
       "         4.08163265,   4.28571429,   4.48979592,   4.69387755,\n",
       "         4.89795918,   5.10204082,   5.30612245,   5.51020408,\n",
       "         5.71428571,   5.91836735,   6.12244898,   6.32653061,\n",
       "         6.53061224,   6.73469388,   6.93877551,   7.14285714,\n",
       "         7.34693878,   7.55102041,   7.75510204,   7.95918367,\n",
       "         8.16326531,   8.36734694,   8.57142857,   8.7755102 ,\n",
       "         8.97959184,   9.18367347,   9.3877551 ,   9.59183673,\n",
       "         9.79591837,  10.        ])"
      ]
     },
     "execution_count": 46,
     "metadata": {},
     "output_type": "execute_result"
    }
   ],
   "source": [
    "X"
   ]
  },
  {
   "cell_type": "code",
   "execution_count": 47,
   "metadata": {
    "collapsed": false
   },
   "outputs": [],
   "source": [
    "# Adding bias\n",
    "X = np.vstack([np.ones(N),X]).T"
   ]
  },
  {
   "cell_type": "code",
   "execution_count": 48,
   "metadata": {
    "collapsed": false
   },
   "outputs": [
    {
     "data": {
      "text/plain": [
       "array([[  1.        ,   0.        ],\n",
       "       [  1.        ,   0.20408163],\n",
       "       [  1.        ,   0.40816327],\n",
       "       [  1.        ,   0.6122449 ],\n",
       "       [  1.        ,   0.81632653],\n",
       "       [  1.        ,   1.02040816],\n",
       "       [  1.        ,   1.2244898 ],\n",
       "       [  1.        ,   1.42857143],\n",
       "       [  1.        ,   1.63265306],\n",
       "       [  1.        ,   1.83673469],\n",
       "       [  1.        ,   2.04081633],\n",
       "       [  1.        ,   2.24489796],\n",
       "       [  1.        ,   2.44897959],\n",
       "       [  1.        ,   2.65306122],\n",
       "       [  1.        ,   2.85714286],\n",
       "       [  1.        ,   3.06122449],\n",
       "       [  1.        ,   3.26530612],\n",
       "       [  1.        ,   3.46938776],\n",
       "       [  1.        ,   3.67346939],\n",
       "       [  1.        ,   3.87755102],\n",
       "       [  1.        ,   4.08163265],\n",
       "       [  1.        ,   4.28571429],\n",
       "       [  1.        ,   4.48979592],\n",
       "       [  1.        ,   4.69387755],\n",
       "       [  1.        ,   4.89795918],\n",
       "       [  1.        ,   5.10204082],\n",
       "       [  1.        ,   5.30612245],\n",
       "       [  1.        ,   5.51020408],\n",
       "       [  1.        ,   5.71428571],\n",
       "       [  1.        ,   5.91836735],\n",
       "       [  1.        ,   6.12244898],\n",
       "       [  1.        ,   6.32653061],\n",
       "       [  1.        ,   6.53061224],\n",
       "       [  1.        ,   6.73469388],\n",
       "       [  1.        ,   6.93877551],\n",
       "       [  1.        ,   7.14285714],\n",
       "       [  1.        ,   7.34693878],\n",
       "       [  1.        ,   7.55102041],\n",
       "       [  1.        ,   7.75510204],\n",
       "       [  1.        ,   7.95918367],\n",
       "       [  1.        ,   8.16326531],\n",
       "       [  1.        ,   8.36734694],\n",
       "       [  1.        ,   8.57142857],\n",
       "       [  1.        ,   8.7755102 ],\n",
       "       [  1.        ,   8.97959184],\n",
       "       [  1.        ,   9.18367347],\n",
       "       [  1.        ,   9.3877551 ],\n",
       "       [  1.        ,   9.59183673],\n",
       "       [  1.        ,   9.79591837],\n",
       "       [  1.        ,  10.        ]])"
      ]
     },
     "execution_count": 48,
     "metadata": {},
     "output_type": "execute_result"
    }
   ],
   "source": [
    "X"
   ]
  },
  {
   "cell_type": "code",
   "execution_count": 49,
   "metadata": {
    "collapsed": true
   },
   "outputs": [],
   "source": [
    "# First maximum likelyhood solutions"
   ]
  },
  {
   "cell_type": "code",
   "execution_count": 50,
   "metadata": {
    "collapsed": true
   },
   "outputs": [],
   "source": [
    "w_ml = np.linalg.solve(X.T.dot(X), X.T.dot(Y))"
   ]
  },
  {
   "cell_type": "code",
   "execution_count": 51,
   "metadata": {
    "collapsed": true
   },
   "outputs": [],
   "source": [
    "Yhat_ml = X.dot(w_ml)"
   ]
  },
  {
   "cell_type": "code",
   "execution_count": 52,
   "metadata": {
    "collapsed": false
   },
   "outputs": [
    {
     "data": {
      "image/png": "[encoded data removed]",
      "text/plain": [
       "<matplotlib.figure.Figure at 0x1062aeed0>"
      ]
     },
     "metadata": {},
     "output_type": "display_data"
    }
   ],
   "source": [
    "plt.scatter(X[:,1],Y)\n",
    "plt.plot(X[:,1], Yhat_ml)\n",
    "plt.show()"
   ]
  },
  {
   "cell_type": "code",
   "execution_count": 53,
   "metadata": {
    "collapsed": true
   },
   "outputs": [],
   "source": [
    "# L2 regularizations"
   ]
  },
  {
   "cell_type": "code",
   "execution_count": 54,
   "metadata": {
    "collapsed": true
   },
   "outputs": [],
   "source": [
    "# l2 penality\n",
    "l2 = 1000.0\n",
    "w_map = np.linalg.solve(l2*np.eye(2) + X.T.dot(X), X.T.dot(Y))"
   ]
  },
  {
   "cell_type": "code",
   "execution_count": 55,
   "metadata": {
    "collapsed": false
   },
   "outputs": [
    {
     "data": {
      "image/png": "[encoded data removed]",
      "text/plain": [
       "<matplotlib.figure.Figure at 0x1075b20d0>"
      ]
     },
     "metadata": {},
     "output_type": "display_data"
    }
   ],
   "source": [
    "Yhat_map = X.dot(w_map)\n",
    "plt.scatter(X[:,1],Y)\n",
    "plt.plot(X[:,1], Yhat_ml, label=\"maximum likelihood\")\n",
    "plt.plot(X[:,1], Yhat_map, label=\"map\")\n",
    "plt.legend()\n",
    "plt.show()"
   ]
  },
  {
   "cell_type": "code",
   "execution_count": null,
   "metadata": {
    "collapsed": true
   },
   "outputs": [],
   "source": []
  }
 ],
 "metadata": {
  "kernelspec": {
   "display_name": "Python [conda root]",
   "language": "python",
   "name": "conda-root-py"
  },
  "language_info": {
   "codemirror_mode": {
    "name": "ipython",
    "version": 2
   },
   "file_extension": ".py",
   "mimetype": "text/x-python",
   "name": "python",
   "nbconvert_exporter": "python",
   "pygments_lexer": "ipython2",
   "version": "2.7.12"
  }
 },
 "nbformat": 4,
 "nbformat_minor": 1
}
