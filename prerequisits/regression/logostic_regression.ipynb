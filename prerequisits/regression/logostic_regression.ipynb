{
 "cells": [
  {
   "cell_type": "code",
   "execution_count": 1,
   "metadata": {
    "collapsed": true
   },
   "outputs": [],
   "source": [
    "# Simple logistic regression example"
   ]
  },
  {
   "cell_type": "code",
   "execution_count": 2,
   "metadata": {
    "collapsed": true
   },
   "outputs": [],
   "source": [
    "import numpy as np"
   ]
  },
  {
   "cell_type": "code",
   "execution_count": 3,
   "metadata": {
    "collapsed": true
   },
   "outputs": [],
   "source": [
    "N = 100\n",
    "D = 2"
   ]
  },
  {
   "cell_type": "code",
   "execution_count": 4,
   "metadata": {
    "collapsed": true
   },
   "outputs": [],
   "source": [
    "X =np.random.rand(N,D)"
   ]
  },
  {
   "cell_type": "code",
   "execution_count": 6,
   "metadata": {
    "collapsed": true
   },
   "outputs": [],
   "source": [
    "# Creating bias variable\n",
    "ones = np.array([[1]*N]).T"
   ]
  },
  {
   "cell_type": "code",
   "execution_count": 8,
   "metadata": {
    "collapsed": false
   },
   "outputs": [],
   "source": [
    "# Concatenating bias with the inputs\n",
    "Xb = np.concatenate((ones,X), axis = 1)"
   ]
  },
  {
   "cell_type": "code",
   "execution_count": 19,
   "metadata": {
    "collapsed": false
   },
   "outputs": [],
   "source": [
    "# Randomly initializing weight matrix\n",
    "w= np.random.rand(D+1)"
   ]
  },
  {
   "cell_type": "code",
   "execution_count": 33,
   "metadata": {
    "collapsed": false
   },
   "outputs": [],
   "source": [
    "# Prodict of weight and inputs\n",
    "Z = Xb.dot(w)"
   ]
  },
  {
   "cell_type": "code",
   "execution_count": 34,
   "metadata": {
    "collapsed": false
   },
   "outputs": [],
   "source": [
    "def sigmoid(z):\n",
    "    return 1/(1+np.exp(-z))"
   ]
  },
  {
   "cell_type": "code",
   "execution_count": 36,
   "metadata": {
    "collapsed": false
   },
   "outputs": [
    {
     "name": "stdout",
     "output_type": "stream",
     "text": [
      "[ 0.61597624  0.63869952  0.77545711  0.81010053  0.63764321  0.66235496\n",
      "  0.65726222  0.64269182  0.70262023  0.70655378  0.65228925  0.5260841\n",
      "  0.6104993   0.71545347  0.57562862  0.59398412  0.63583192  0.68310944\n",
      "  0.74267088  0.72455325  0.67808866  0.61082576  0.72207315  0.76446793\n",
      "  0.7355571   0.77476941  0.62425631  0.57798703  0.67617274  0.52928289\n",
      "  0.71185695  0.67151022  0.63681638  0.60565393  0.62513765  0.65215768\n",
      "  0.70912935  0.74264395  0.76777262  0.75260875  0.6950754   0.77670743\n",
      "  0.59837899  0.67859181  0.52508785  0.741039    0.61627569  0.75262083\n",
      "  0.63966786  0.653479    0.7983604   0.76848197  0.66333519  0.7590765\n",
      "  0.68197622  0.71679123  0.78659446  0.64172307  0.71061658  0.69055555\n",
      "  0.58622399  0.65356377  0.684196    0.75884848  0.68496284  0.70437365\n",
      "  0.70449292  0.67746265  0.73022937  0.69731412  0.78897468  0.74926377\n",
      "  0.69056162  0.70030566  0.74652198  0.69607107  0.69287571  0.60026697\n",
      "  0.77482724  0.68930038  0.6344272   0.54123684  0.79828691  0.61882647\n",
      "  0.73990913  0.65213057  0.62925894  0.73810741  0.59241422  0.62445776\n",
      "  0.73853939  0.67037747  0.66199309  0.58456853  0.61872534  0.65290575\n",
      "  0.60645553  0.75177656  0.73542927  0.68038413]\n"
     ]
    }
   ],
   "source": [
    "print (sigmoid(Z))"
   ]
  },
  {
   "cell_type": "code",
   "execution_count": null,
   "metadata": {
    "collapsed": true
   },
   "outputs": [],
   "source": []
  }
 ],
 "metadata": {
  "kernelspec": {
   "display_name": "Python [default]",
   "language": "python",
   "name": "python2"
  },
  "language_info": {
   "codemirror_mode": {
    "name": "ipython",
    "version": 2
   },
   "file_extension": ".py",
   "mimetype": "text/x-python",
   "name": "python",
   "nbconvert_exporter": "python",
   "pygments_lexer": "ipython2",
   "version": "2.7.12"
  }
 },
 "nbformat": 4,
 "nbformat_minor": 1
}
