{
 "cells": [
  {
   "cell_type": "code",
   "execution_count": 79,
   "metadata": {
    "collapsed": false
   },
   "outputs": [],
   "source": [
    "import pandas as pd\n",
    "import numpy as np\n",
    "import matplotlib.pyplot as plt\n",
    "from sklearn.utils import shuffle"
   ]
  },
  {
   "cell_type": "code",
   "execution_count": 80,
   "metadata": {
    "collapsed": false
   },
   "outputs": [],
   "source": [
    "def get_data():\n",
    "    # Data Attributes: is_mobile(boolean), n_products_viewed(integer numeric), visit_duration(numeric), \n",
    "    # is_returning_visitor(boolean), time_of_day(categoric: 4 values), user_actions(class)\n",
    "    df = pd.read_csv(\"../files/regression/ecommerce_data.csv\")\n",
    "    data = df.as_matrix()\n",
    "    \n",
    "    X = data[:, :-1]\n",
    "    Y = data[:, -1]\n",
    "    \n",
    "    # Normalize numerical attributes\n",
    "    \n",
    "    X[:,1] = (X[:,1] - X[:,1].mean())/ X[:,1].std()\n",
    "    X[:,2] = (X[:,2] - X[:,2].mean())/ X[:,2].std()\n",
    "    \n",
    "    # One hot encoding of categoric attributes\n",
    "    N, D = X.shape\n",
    "    X2 = np.zeros((N, D+3))\n",
    "    X2[:,0:(D-1)] = X[:,0:(D-1)]\n",
    "    for n in xrange(N):\n",
    "        t = int(X[n,D-1])\n",
    "        X2[n,t+D-1] = 1\n",
    "        \n",
    "    return X2, Y"
   ]
  },
  {
   "cell_type": "markdown",
   "metadata": {},
   "source": [
    "For logistic regression we consider only two class. Y<=1 and Y>1."
   ]
  },
  {
   "cell_type": "code",
   "execution_count": 81,
   "metadata": {
    "collapsed": false
   },
   "outputs": [],
   "source": [
    "def get_binary_data():\n",
    "    X, Y = get_data()\n",
    "    X2 = X[Y<=1]\n",
    "    Y2 = Y[Y<=1]\n",
    "    return X2, Y2"
   ]
  },
  {
   "cell_type": "code",
   "execution_count": 82,
   "metadata": {
    "collapsed": false
   },
   "outputs": [],
   "source": [
    "X, Y = get_binary_data()"
   ]
  },
  {
   "cell_type": "code",
   "execution_count": 83,
   "metadata": {
    "collapsed": true
   },
   "outputs": [],
   "source": [
    "D = X.shape[1]\n",
    "W = np.random.rand(D)\n",
    "b = 0"
   ]
  },
  {
   "cell_type": "code",
   "execution_count": 84,
   "metadata": {
    "collapsed": true
   },
   "outputs": [],
   "source": [
    "def sigmoid(a):\n",
    "    return 1/(1+np.exp(-a))"
   ]
  },
  {
   "cell_type": "code",
   "execution_count": 85,
   "metadata": {
    "collapsed": true
   },
   "outputs": [],
   "source": [
    "def forward(X,W,b):\n",
    "    return sigmoid(X.dot(W)+b)"
   ]
  },
  {
   "cell_type": "markdown",
   "metadata": {},
   "source": [
    "P(Y/X) = forward(X,W,b)"
   ]
  },
  {
   "cell_type": "code",
   "execution_count": 86,
   "metadata": {
    "collapsed": false
   },
   "outputs": [],
   "source": [
    "P_Y_given_X = forward(X, W, b)\n",
    "predictions = np.round(P_Y_given_X)"
   ]
  },
  {
   "cell_type": "code",
   "execution_count": 87,
   "metadata": {
    "collapsed": true
   },
   "outputs": [],
   "source": [
    "def classification_rate(Y,P):\n",
    "    return np.mean(Y == P)"
   ]
  },
  {
   "cell_type": "code",
   "execution_count": 88,
   "metadata": {
    "collapsed": false
   },
   "outputs": [
    {
     "name": "stdout",
     "output_type": "stream",
     "text": [
      "('Score: ', 0.59798994974874375)\n"
     ]
    }
   ],
   "source": [
    "print(\"Score: \", classification_rate(Y, predictions))"
   ]
  },
  {
   "cell_type": "markdown",
   "metadata": {
    "collapsed": true
   },
   "source": [
    "# Trainig weight, Gradient Descent"
   ]
  },
  {
   "cell_type": "code",
   "execution_count": 89,
   "metadata": {
    "collapsed": true
   },
   "outputs": [],
   "source": [
    "X,Y = get_binary_data()\n",
    "X,Y = shuffle(X,Y)"
   ]
  },
  {
   "cell_type": "code",
   "execution_count": 90,
   "metadata": {
    "collapsed": true
   },
   "outputs": [],
   "source": [
    "Xtrain = X[:-100]\n",
    "Ytrain = Y[:-100]\n",
    "Xtest = X[-100:]\n",
    "Ytest = Y[-100:]"
   ]
  },
  {
   "cell_type": "code",
   "execution_count": 91,
   "metadata": {
    "collapsed": true
   },
   "outputs": [],
   "source": [
    "D=X.shape[1]\n",
    "W = np.random.rand(D)\n",
    "b=0"
   ]
  },
  {
   "cell_type": "markdown",
   "metadata": {},
   "source": [
    "## Cross Entropy\n",
    "The objective function used in logistic regression is Cross Entropy"
   ]
  },
  {
   "cell_type": "code",
   "execution_count": 92,
   "metadata": {
    "collapsed": true
   },
   "outputs": [],
   "source": [
    "def cross_entropy(T, pY):\n",
    "    return -np.mean(T*np.log(pY) + (1-T)*np.log(1-pY))"
   ]
  },
  {
   "cell_type": "code",
   "execution_count": 93,
   "metadata": {
    "collapsed": true
   },
   "outputs": [],
   "source": [
    "train_cost = []\n",
    "test_cost = []\n",
    "learning_rate = 0.001"
   ]
  },
  {
   "cell_type": "code",
   "execution_count": 94,
   "metadata": {
    "collapsed": false
   },
   "outputs": [
    {
     "name": "stdout",
     "output_type": "stream",
     "text": [
      "0 0.744534868076 0.765460941646\n",
      "1000 0.179085854434 0.203599288938\n",
      "2000 0.177918408364 0.200903751171\n",
      "3000 0.177823690806 0.200460603636\n",
      "4000 0.17781413864 0.200351824657\n",
      "5000 0.17781311493 0.200319645979\n",
      "6000 0.177813003096 0.200309395141\n",
      "7000 0.177812990802 0.200306040435\n",
      "8000 0.177812989448 0.200304932102\n",
      "9000 0.177812989299 0.200304564715\n",
      "Final training classification rate:  0.976510067114\n",
      "Final testing classification rate:  0.96\n"
     ]
    }
   ],
   "source": [
    "for i in xrange(10000):\n",
    "    pYtrain = forward(Xtrain, W, b)\n",
    "    pYtest = forward(Xtest, W, b)\n",
    "    ctrain = cross_entropy(Ytrain, pYtrain)\n",
    "    ctest = cross_entropy(Ytest, pYtest)\n",
    "    \n",
    "    train_cost.append(ctrain)\n",
    "    test_cost.append(ctest)\n",
    "    \n",
    "    W -= learning_rate*Xtrain.T.dot(pYtrain-Ytrain)\n",
    "    b -= learning_rate*(pYtrain-Ytrain).sum()\n",
    "    \n",
    "    if i % 1000 == 0:\n",
    "        print i, ctrain, ctest\n",
    "    \n",
    "print \"Final training classification rate: \", classification_rate(Ytrain, np.round(pYtrain))\n",
    "print \"Final testing classification rate: \", classification_rate(Ytest, np.round(pYtest))"
   ]
  },
  {
   "cell_type": "code",
   "execution_count": 95,
   "metadata": {
    "collapsed": false
   },
   "outputs": [
    {
     "data": {
      "image/png": "[encoded data removed]",
      "text/plain": [
       "<matplotlib.figure.Figure at 0x11585b0d0>"
      ]
     },
     "metadata": {},
     "output_type": "display_data"
    }
   ],
   "source": [
    "legend1, = plt.plot(train_cost, label = 'train_cost')\n",
    "legend2, = plt.plot(test_cost, label = \"test_cost\")\n",
    "plt.legend([legend1, legend2])\n",
    "plt.show()"
   ]
  },
  {
   "cell_type": "code",
   "execution_count": 109,
   "metadata": {
    "collapsed": false
   },
   "outputs": [
    {
     "data": {
      "image/png": "[encoded data removed]",
      "text/plain": [
       "<matplotlib.figure.Figure at 0x116a36410>"
      ]
     },
     "metadata": {},
     "output_type": "display_data"
    }
   ],
   "source": [
    "legend1, = plt.plot(train_cost, label = 'train_cost')\n",
    "legend2, = plt.plot(test_cost, label = \"test_cost\")\n",
    "plt.legend([legend1, legend2])\n",
    "plt.show()"
   ]
  },
  {
   "cell_type": "code",
   "execution_count": null,
   "metadata": {
    "collapsed": true
   },
   "outputs": [],
   "source": []
  }
 ],
 "metadata": {
  "anaconda-cloud": {},
  "kernelspec": {
   "display_name": "Python [default]",
   "language": "python",
   "name": "python2"
  },
  "language_info": {
   "codemirror_mode": {
    "name": "ipython",
    "version": 2
   },
   "file_extension": ".py",
   "mimetype": "text/x-python",
   "name": "python",
   "nbconvert_exporter": "python",
   "pygments_lexer": "ipython2",
   "version": "2.7.12"
  }
 },
 "nbformat": 4,
 "nbformat_minor": 1
}
